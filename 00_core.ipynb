{
 "cells": [
  {
   "cell_type": "code",
   "metadata": {
    "cell_id": "00000-48467191-fc44-46f5-96c2-67d29138d138",
    "deepnote_to_be_reexecuted": false,
    "source_hash": "d2f1ef11",
    "execution_start": 1622186118797,
    "execution_millis": 2,
    "deepnote_cell_type": "code"
   },
   "source": "# default_exp core",
   "outputs": [],
   "execution_count": null
  },
  {
   "cell_type": "markdown",
   "source": "# module name here\n\n> API details.",
   "metadata": {
    "cell_id": "00001-038142fa-63b4-4f38-84a0-0e50f8c3f60c",
    "deepnote_cell_type": "markdown"
   }
  },
  {
   "cell_type": "code",
   "metadata": {
    "cell_id": "00002-76e64922-7b85-4c63-833d-ebe3c17bb50e",
    "deepnote_to_be_reexecuted": false,
    "source_hash": "3df97c2",
    "execution_start": 1622186118808,
    "execution_millis": 287,
    "deepnote_cell_type": "code"
   },
   "source": "#hide\nfrom nbdev.showdoc import *",
   "outputs": [],
   "execution_count": null
  },
  {
   "cell_type": "code",
   "metadata": {
    "cell_id": "00003-ec2f941b-7cb7-46f4-afb0-0766bf03ce64",
    "deepnote_to_be_reexecuted": false,
    "source_hash": "68a273ae",
    "execution_start": 1622186119098,
    "execution_millis": 4,
    "deepnote_cell_type": "code"
   },
   "source": "#export\ndef say_hello(to):\n    \"Say hello to somebody\"\n    return f'Hello {to}!'",
   "outputs": [],
   "execution_count": null
  },
  {
   "cell_type": "code",
   "metadata": {
    "tags": [],
    "cell_id": "00004-5e83282f-d20b-41af-9e0a-3d529d203e99",
    "deepnote_to_be_reexecuted": false,
    "source_hash": "36c93c91",
    "execution_start": 1622186119105,
    "execution_millis": 18,
    "deepnote_cell_type": "code"
   },
   "source": "show_doc(say_hello)",
   "outputs": [
    {
     "data": {
      "text/plain": "<IPython.core.display.Markdown object>",
      "text/markdown": "<h4 id=\"say_hello\" class=\"doc_header\"><code>say_hello</code><a href=\"__main__.py#L2\" class=\"source_link\" style=\"float:right\">[source]</a></h4>\n\n> <code>say_hello</code>(**`to`**)\n\nSay hello to somebody"
     },
     "metadata": {},
     "output_type": "display_data"
    }
   ],
   "execution_count": null
  },
  {
   "cell_type": "markdown",
   "source": "You can use this function like this:",
   "metadata": {
    "tags": [],
    "cell_id": "00005-6fb386e4-e736-4e54-b479-ce2d0d6d8e65",
    "deepnote_cell_type": "markdown"
   }
  },
  {
   "cell_type": "code",
   "metadata": {
    "tags": [],
    "cell_id": "00004-91d80342-ac2e-4866-8ee0-261e2db37d48",
    "deepnote_to_be_reexecuted": false,
    "source_hash": "3ef4c651",
    "execution_start": 1622186119121,
    "execution_millis": 5,
    "deepnote_cell_type": "code"
   },
   "source": "say_hello(\"Sylvain\")",
   "outputs": [
    {
     "output_type": "execute_result",
     "execution_count": 5,
     "data": {
      "text/plain": "'Hello Sylvain!'"
     },
     "metadata": {}
    }
   ],
   "execution_count": null
  },
  {
   "cell_type": "code",
   "metadata": {
    "tags": [],
    "cell_id": "00005-d3bd04b7-58f4-4e5c-a7b3-5f39b00ed105",
    "deepnote_to_be_reexecuted": false,
    "source_hash": "deb4abba",
    "execution_start": 1622186119170,
    "execution_millis": 1,
    "deepnote_cell_type": "code"
   },
   "source": "assert say_hello(\"Jeremy\")==\"Hello Jeremy!\"",
   "outputs": [],
   "execution_count": null
  },
  {
   "cell_type": "code",
   "metadata": {
    "tags": [],
    "cell_id": "00005-473d7587-233d-4c0d-bd52-90a8a01fd519",
    "deepnote_to_be_reexecuted": false,
    "source_hash": "b1be4f21",
    "execution_start": 1622186119171,
    "execution_millis": 47,
    "deepnote_cell_type": "code"
   },
   "source": "from nbdev.export import notebook2script; notebook2script()",
   "outputs": [
    {
     "name": "stdout",
     "text": "Converted 00_core.ipynb.\nConverted index.ipynb.\n",
     "output_type": "stream"
    }
   ],
   "execution_count": null
  },
  {
   "cell_type": "code",
   "source": "# a workaround to get the nbconvert<6 into the python path so that nbdev_build_docs works\n!pip install nbconvert==5.6.1\nimport sys\nsys.path = ['/root/venv/lib/python3.7/site-packages'] + sys.path\nimport nbconvert",
   "metadata": {
    "tags": [],
    "cell_id": "00010-32cbdd85-5ff5-423f-b1c3-838756db83a7",
    "deepnote_to_be_reexecuted": false,
    "source_hash": "5e90a031",
    "execution_start": 1622186136900,
    "execution_millis": 192,
    "is_code_hidden": true,
    "is_output_hidden": true,
    "deepnote_cell_type": "code"
   },
   "outputs": [
    {
     "output_type": "execute_result",
     "execution_count": 1,
     "data": {
      "text/plain": "'5.6.1'"
     },
     "metadata": {}
    }
   ],
   "execution_count": 1
  },
  {
   "cell_type": "code",
   "source": "from nbdev.export2html import nbdev_build_docs; nbdev_build_docs()",
   "metadata": {
    "tags": [],
    "cell_id": "00010-b9cdf9b9-6613-491a-9c1c-ef06bdda86e4",
    "deepnote_to_be_reexecuted": false,
    "source_hash": "37c4124e",
    "execution_start": 1622186158799,
    "execution_millis": 4888,
    "deepnote_cell_type": "code"
   },
   "outputs": [
    {
     "name": "stdout",
     "text": "converting: /work/pyleftpad/index.ipynb\nconverting: /work/pyleftpad/00_core.ipynb\nconverting /work/pyleftpad/index.ipynb to README.md\n",
     "output_type": "stream"
    }
   ],
   "execution_count": 2
  },
  {
   "cell_type": "code",
   "metadata": {
    "tags": [],
    "cell_id": "00007-9414f427-574b-4589-8c1f-d3c8cf418b1b",
    "deepnote_to_be_reexecuted": false,
    "source_hash": "a376f5ba",
    "execution_start": 1622184548838,
    "execution_millis": 1284,
    "deepnote_cell_type": "code"
   },
   "source": "!git config user.name \"Simon Sotak\"\n!git config user.email \"the21st@gmail.com\"",
   "outputs": [],
   "execution_count": null
  },
  {
   "cell_type": "code",
   "metadata": {
    "tags": [],
    "cell_id": "00008-11075dc7-3b8d-4483-b5be-ca6f7d977a21",
    "deepnote_to_be_reexecuted": false,
    "source_hash": "7dfb65e6",
    "execution_start": 1622184550323,
    "execution_millis": 1412,
    "deepnote_cell_type": "code"
   },
   "source": "!git add *\n!git commit -m \"Committing our new left-pad library\"",
   "outputs": [
    {
     "name": "stdout",
     "text": "[master de7baf3] Committing our new left-pad library\r\n 3 files changed, 139 insertions(+), 29 deletions(-)\r\n",
     "output_type": "stream"
    }
   ],
   "execution_count": null
  },
  {
   "cell_type": "code",
   "metadata": {
    "tags": [],
    "cell_id": "00007-c395e57f-08e1-4923-ae8f-ee2b3ddf4e18",
    "deepnote_to_be_reexecuted": false,
    "source_hash": "2f198f39",
    "execution_start": 1622184553447,
    "execution_millis": 3760,
    "deepnote_cell_type": "code"
   },
   "source": "!git push origin master",
   "outputs": [
    {
     "name": "stdout",
     "text": "Enumerating objects: 21, done.\nCounting objects: 100% (21/21), done.\nDelta compression using up to 4 threads\nCompressing objects: 100% (16/16), done.\nWriting objects: 100% (17/17), 6.61 KiB | 2.20 MiB/s, done.\nTotal 17 (delta 9), reused 0 (delta 0)\nremote: Resolving deltas: 100% (9/9), completed with 2 local objects.\u001b[K\nTo https://github.com/the21st/pyleftpad.git\n   b609020..de7baf3  master -> master\n",
     "output_type": "stream"
    }
   ],
   "execution_count": null
  },
  {
   "cell_type": "code",
   "metadata": {
    "tags": [],
    "cell_id": "00010-a532bc56-7303-4c19-91f9-aa6ad68daf4c",
    "deepnote_to_be_reexecuted": false,
    "source_hash": "83c0f5f1",
    "execution_start": 1622184580685,
    "execution_millis": 4809,
    "deepnote_cell_type": "code"
   },
   "source": "!pip install git+git://github.com/the21st/pyleftpad",
   "outputs": [
    {
     "name": "stdout",
     "text": "Collecting git+git://github.com/the21st/pyleftpad\n  Cloning git://github.com/the21st/pyleftpad to /tmp/pip-req-build-_fnd1_4n\n  Running command git clone -q git://github.com/the21st/pyleftpad /tmp/pip-req-build-_fnd1_4n\nRequirement already satisfied: pip in /root/venv/lib/python3.7/site-packages (from pyleftpad==0.0.1) (21.1.2)\nRequirement already satisfied: packaging in /shared-libs/python3.7/py-core/lib/python3.7/site-packages (from pyleftpad==0.0.1) (20.9)\nCollecting nbconvert<6\n  Using cached nbconvert-5.6.1-py2.py3-none-any.whl (455 kB)\nRequirement already satisfied: nbformat>=4.4 in /shared-libs/python3.7/py-core/lib/python3.7/site-packages (from nbconvert<6->pyleftpad==0.0.1) (5.1.3)\nRequirement already satisfied: jupyter-core in /shared-libs/python3.7/py-core/lib/python3.7/site-packages (from nbconvert<6->pyleftpad==0.0.1) (4.7.1)\nRequirement already satisfied: defusedxml in /shared-libs/python3.7/py-core/lib/python3.7/site-packages (from nbconvert<6->pyleftpad==0.0.1) (0.7.1)\nRequirement already satisfied: traitlets>=4.2 in /shared-libs/python3.7/py-core/lib/python3.7/site-packages (from nbconvert<6->pyleftpad==0.0.1) (5.0.5)\nRequirement already satisfied: jinja2>=2.4 in /shared-libs/python3.7/py-core/lib/python3.7/site-packages (from nbconvert<6->pyleftpad==0.0.1) (3.0.1)\nRequirement already satisfied: entrypoints>=0.2.2 in /shared-libs/python3.7/py-core/lib/python3.7/site-packages (from nbconvert<6->pyleftpad==0.0.1) (0.3)\nRequirement already satisfied: mistune<2,>=0.8.1 in /shared-libs/python3.7/py-core/lib/python3.7/site-packages (from nbconvert<6->pyleftpad==0.0.1) (0.8.4)\nRequirement already satisfied: pandocfilters>=1.4.1 in /shared-libs/python3.7/py-core/lib/python3.7/site-packages (from nbconvert<6->pyleftpad==0.0.1) (1.4.3)\nRequirement already satisfied: bleach in /shared-libs/python3.7/py-core/lib/python3.7/site-packages (from nbconvert<6->pyleftpad==0.0.1) (3.3.0)\nRequirement already satisfied: pygments in /shared-libs/python3.7/py-core/lib/python3.7/site-packages (from nbconvert<6->pyleftpad==0.0.1) (2.9.0)\nRequirement already satisfied: testpath in /shared-libs/python3.7/py-core/lib/python3.7/site-packages (from nbconvert<6->pyleftpad==0.0.1) (0.5.0)\nRequirement already satisfied: MarkupSafe>=2.0 in /shared-libs/python3.7/py-core/lib/python3.7/site-packages (from jinja2>=2.4->nbconvert<6->pyleftpad==0.0.1) (2.0.1)\nRequirement already satisfied: jsonschema!=2.5.0,>=2.4 in /shared-libs/python3.7/py-core/lib/python3.7/site-packages (from nbformat>=4.4->nbconvert<6->pyleftpad==0.0.1) (3.2.0)\nRequirement already satisfied: ipython-genutils in /shared-libs/python3.7/py-core/lib/python3.7/site-packages (from nbformat>=4.4->nbconvert<6->pyleftpad==0.0.1) (0.2.0)\nRequirement already satisfied: setuptools in /root/venv/lib/python3.7/site-packages (from jsonschema!=2.5.0,>=2.4->nbformat>=4.4->nbconvert<6->pyleftpad==0.0.1) (57.0.0)\nRequirement already satisfied: pyrsistent>=0.14.0 in /shared-libs/python3.7/py-core/lib/python3.7/site-packages (from jsonschema!=2.5.0,>=2.4->nbformat>=4.4->nbconvert<6->pyleftpad==0.0.1) (0.17.3)\nRequirement already satisfied: importlib-metadata in /shared-libs/python3.7/py-core/lib/python3.7/site-packages (from jsonschema!=2.5.0,>=2.4->nbformat>=4.4->nbconvert<6->pyleftpad==0.0.1) (4.3.0)\nRequirement already satisfied: attrs>=17.4.0 in /shared-libs/python3.7/py-core/lib/python3.7/site-packages (from jsonschema!=2.5.0,>=2.4->nbformat>=4.4->nbconvert<6->pyleftpad==0.0.1) (21.2.0)\nRequirement already satisfied: six>=1.11.0 in /shared-libs/python3.7/py-core/lib/python3.7/site-packages (from jsonschema!=2.5.0,>=2.4->nbformat>=4.4->nbconvert<6->pyleftpad==0.0.1) (1.16.0)\nRequirement already satisfied: webencodings in /shared-libs/python3.7/py-core/lib/python3.7/site-packages (from bleach->nbconvert<6->pyleftpad==0.0.1) (0.5.1)\nRequirement already satisfied: typing-extensions>=3.6.4 in /shared-libs/python3.7/py-core/lib/python3.7/site-packages (from importlib-metadata->jsonschema!=2.5.0,>=2.4->nbformat>=4.4->nbconvert<6->pyleftpad==0.0.1) (3.10.0.0)\nRequirement already satisfied: zipp>=0.5 in /shared-libs/python3.7/py-core/lib/python3.7/site-packages (from importlib-metadata->jsonschema!=2.5.0,>=2.4->nbformat>=4.4->nbconvert<6->pyleftpad==0.0.1) (3.4.1)\nRequirement already satisfied: pyparsing>=2.0.2 in /shared-libs/python3.7/py-core/lib/python3.7/site-packages (from packaging->pyleftpad==0.0.1) (2.4.7)\nBuilding wheels for collected packages: pyleftpad\n  Building wheel for pyleftpad (setup.py) ... \u001b[?25ldone\n\u001b[?25h  Created wheel for pyleftpad: filename=pyleftpad-0.0.1-py3-none-any.whl size=7185 sha256=3d285a09e199af025a93509c2d308fe4ff6529395a9592ce062e7152e2f5c064\n  Stored in directory: /tmp/pip-ephem-wheel-cache-isskowi8/wheels/43/fa/98/b6d37bd7fbd5483c56823aaebb97b1debd3ef76046f23a950b\nSuccessfully built pyleftpad\nInstalling collected packages: nbconvert, pyleftpad\n  Attempting uninstall: nbconvert\n    Found existing installation: nbconvert 6.0.7\n    Not uninstalling nbconvert at /shared-libs/python3.7/py-core/lib/python3.7/site-packages, outside environment /root/venv\n    Can't uninstall 'nbconvert'. No files were found to uninstall.\n\u001b[31mERROR: pip's dependency resolver does not currently take into account all the packages that are installed. This behaviour is the source of the following dependency conflicts.\nnbsphinx 0.8.5 requires jinja2~=2.11, but you have jinja2 3.0.1 which is incompatible.\u001b[0m\nSuccessfully installed nbconvert-5.6.1 pyleftpad-0.0.1\n",
     "output_type": "stream"
    }
   ],
   "execution_count": null
  },
  {
   "cell_type": "code",
   "source": "import pyleftpad",
   "metadata": {
    "tags": [],
    "cell_id": "00014-57d64bf2-e1b6-454d-b50a-3f3cc850f82c",
    "deepnote_to_be_reexecuted": false,
    "source_hash": "9d38a173",
    "execution_start": 1622184755702,
    "execution_millis": 0,
    "deepnote_cell_type": "code"
   },
   "outputs": [],
   "execution_count": null
  },
  {
   "cell_type": "code",
   "source": "pyleftpad.__file__",
   "metadata": {
    "tags": [],
    "cell_id": "00015-d7b2f708-2578-47fc-a370-e33cd78db31b",
    "deepnote_to_be_reexecuted": false,
    "source_hash": "7c15c6cf",
    "execution_start": 1622184811419,
    "execution_millis": 6,
    "deepnote_cell_type": "code"
   },
   "outputs": [
    {
     "output_type": "execute_result",
     "execution_count": 23,
     "data": {
      "text/plain": "'/work/pyleftpad/pyleftpad/__init__.py'"
     },
     "metadata": {}
    }
   ],
   "execution_count": null
  },
  {
   "cell_type": "code",
   "source": "dir(pyleftpad)",
   "metadata": {
    "tags": [],
    "cell_id": "00015-b202b223-81dd-4fee-b714-104c18fb337f",
    "deepnote_to_be_reexecuted": false,
    "source_hash": "be6044ca",
    "execution_start": 1622184800676,
    "execution_millis": 5,
    "deepnote_cell_type": "code"
   },
   "outputs": [
    {
     "output_type": "execute_result",
     "execution_count": 22,
     "data": {
      "text/plain": "['__builtins__',\n '__cached__',\n '__doc__',\n '__file__',\n '__loader__',\n '__name__',\n '__package__',\n '__path__',\n '__spec__',\n '__version__']"
     },
     "metadata": {}
    }
   ],
   "execution_count": null
  },
  {
   "cell_type": "code",
   "source": "pyleftpad.core.say_hello(\"Sylvain\")",
   "metadata": {
    "tags": [],
    "cell_id": "00015-4cb083a4-b662-4243-889a-643f97e1ca95",
    "deepnote_to_be_reexecuted": false,
    "source_hash": "76e32f73",
    "execution_start": 1622184612243,
    "execution_millis": 85,
    "deepnote_cell_type": "code"
   },
   "outputs": [
    {
     "output_type": "error",
     "ename": "AttributeError",
     "evalue": "module 'pyleftpad' has no attribute 'core'",
     "traceback": [
      "\u001b[0;31m---------------------------------------------------------------------------\u001b[0m",
      "\u001b[0;31mAttributeError\u001b[0m                            Traceback (most recent call last)",
      "\u001b[0;32m<ipython-input-15-05cbcca09e0d>\u001b[0m in \u001b[0;36m<module>\u001b[0;34m\u001b[0m\n\u001b[0;32m----> 1\u001b[0;31m \u001b[0mpyleftpad\u001b[0m\u001b[0;34m.\u001b[0m\u001b[0mcore\u001b[0m\u001b[0;34m.\u001b[0m\u001b[0msay_hello\u001b[0m\u001b[0;34m(\u001b[0m\u001b[0;34m\"Sylvain\"\u001b[0m\u001b[0;34m)\u001b[0m\u001b[0;34m\u001b[0m\u001b[0;34m\u001b[0m\u001b[0m\n\u001b[0m",
      "\u001b[0;31mAttributeError\u001b[0m: module 'pyleftpad' has no attribute 'core'"
     ]
    }
   ],
   "execution_count": null
  },
  {
   "cell_type": "code",
   "metadata": {
    "tags": [],
    "cell_id": "00012-7b4612d4-43ab-4d9f-ad4a-94d0b08f8c14",
    "deepnote_cell_type": "code"
   },
   "source": "# TODO maybe pypi? pending https://github.com/fastai/nbdev_template/issues/60",
   "execution_count": null,
   "outputs": []
  },
  {
   "cell_type": "markdown",
   "source": "<a style='text-decoration:none;line-height:16px;display:flex;color:#5B5B62;padding:10px;justify-content:end;' href='https://deepnote.com?utm_source=created-in-deepnote-cell&projectId=31041570-ef1a-415f-beea-b08a526f9fb6' target=\"_blank\">\n<img alt='Created in deepnote.com' style='display:inline;max-height:16px;margin:0px;margin-right:7.5px;' src='data:image/svg+xml;base64,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' > </img>\nCreated in <span style='font-weight:600;margin-left:4px;'>Deepnote</span></a>",
   "metadata": {
    "tags": [],
    "created_in_deepnote_cell": true,
    "deepnote_cell_type": "markdown"
   }
  }
 ],
 "nbformat": 4,
 "nbformat_minor": 2,
 "metadata": {
  "kernelspec": {
   "display_name": "Python 3",
   "language": "python",
   "name": "python3"
  },
  "deepnote_notebook_id": "a4c3679b-4800-49bf-86ce-e453a90545da",
  "deepnote": {},
  "deepnote_execution_queue": []
 }
}