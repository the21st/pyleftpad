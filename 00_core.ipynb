{
 "cells": [
  {
   "cell_type": "code",
   "metadata": {
    "cell_id": "00000-48467191-fc44-46f5-96c2-67d29138d138",
    "deepnote_to_be_reexecuted": false,
    "source_hash": "d2f1ef11",
    "execution_start": 1622184544646,
    "execution_millis": 0,
    "deepnote_cell_type": "code"
   },
   "source": "# default_exp core",
   "execution_count": 2,
   "outputs": []
  },
  {
   "cell_type": "markdown",
   "source": "# module name here\n\n> API details.",
   "metadata": {
    "cell_id": "00001-038142fa-63b4-4f38-84a0-0e50f8c3f60c",
    "deepnote_cell_type": "markdown"
   }
  },
  {
   "cell_type": "code",
   "metadata": {
    "cell_id": "00002-76e64922-7b85-4c63-833d-ebe3c17bb50e",
    "deepnote_to_be_reexecuted": false,
    "source_hash": "3df97c2",
    "execution_start": 1622184544860,
    "execution_millis": 870,
    "deepnote_cell_type": "code"
   },
   "source": "#hide\nfrom nbdev.showdoc import *",
   "execution_count": 3,
   "outputs": []
  },
  {
   "cell_type": "code",
   "metadata": {
    "cell_id": "00003-ec2f941b-7cb7-46f4-afb0-0766bf03ce64",
    "deepnote_to_be_reexecuted": false,
    "source_hash": "68a273ae",
    "execution_start": 1622184545734,
    "execution_millis": 2,
    "deepnote_cell_type": "code"
   },
   "source": "#export\ndef say_hello(to):\n    \"Say hello to somebody\"\n    return f'Hello {to}!'",
   "execution_count": 4,
   "outputs": []
  },
  {
   "cell_type": "code",
   "metadata": {
    "tags": [],
    "cell_id": "00004-5e83282f-d20b-41af-9e0a-3d529d203e99",
    "deepnote_to_be_reexecuted": false,
    "source_hash": "36c93c91",
    "execution_start": 1622184545738,
    "execution_millis": 22,
    "deepnote_cell_type": "code"
   },
   "source": "show_doc(say_hello)",
   "execution_count": 5,
   "outputs": [
    {
     "data": {
      "text/plain": "<IPython.core.display.Markdown object>",
      "text/markdown": "<h4 id=\"say_hello\" class=\"doc_header\"><code>say_hello</code><a href=\"__main__.py#L2\" class=\"source_link\" style=\"float:right\">[source]</a></h4>\n\n> <code>say_hello</code>(**`to`**)\n\nSay hello to somebody"
     },
     "metadata": {},
     "output_type": "display_data"
    }
   ]
  },
  {
   "cell_type": "markdown",
   "source": "You can use this function like this:",
   "metadata": {
    "tags": [],
    "cell_id": "00005-6fb386e4-e736-4e54-b479-ce2d0d6d8e65",
    "deepnote_cell_type": "markdown"
   }
  },
  {
   "cell_type": "code",
   "metadata": {
    "tags": [],
    "cell_id": "00004-91d80342-ac2e-4866-8ee0-261e2db37d48",
    "deepnote_to_be_reexecuted": false,
    "source_hash": "3ef4c651",
    "execution_start": 1622184545755,
    "execution_millis": 7,
    "deepnote_cell_type": "code"
   },
   "source": "say_hello(\"Sylvain\")",
   "execution_count": 6,
   "outputs": [
    {
     "output_type": "execute_result",
     "execution_count": 6,
     "data": {
      "text/plain": "'Hello Sylvain!'"
     },
     "metadata": {}
    }
   ]
  },
  {
   "cell_type": "code",
   "metadata": {
    "tags": [],
    "cell_id": "00005-d3bd04b7-58f4-4e5c-a7b3-5f39b00ed105",
    "deepnote_to_be_reexecuted": false,
    "source_hash": "deb4abba",
    "execution_start": 1622183907568,
    "execution_millis": 2,
    "deepnote_cell_type": "code"
   },
   "source": "assert say_hello(\"Jeremy\")==\"Hello Jeremy!\"",
   "outputs": [],
   "execution_count": null
  },
  {
   "cell_type": "code",
   "metadata": {
    "tags": [],
    "cell_id": "00005-473d7587-233d-4c0d-bd52-90a8a01fd519",
    "deepnote_to_be_reexecuted": false,
    "source_hash": "b1be4f21",
    "execution_start": 1622183908294,
    "execution_millis": 79,
    "deepnote_cell_type": "code"
   },
   "source": "from nbdev.export import notebook2script; notebook2script()",
   "outputs": [
    {
     "name": "stdout",
     "text": "Converted 00_core.ipynb.\nConverted index.ipynb.\n",
     "output_type": "stream"
    }
   ],
   "execution_count": null
  },
  {
   "cell_type": "code",
   "metadata": {
    "tags": [],
    "cell_id": "00007-431a49fc-3c0a-4a1e-9fd0-93c5af493e1c",
    "deepnote_to_be_reexecuted": false,
    "source_hash": "5e17264",
    "execution_start": 1622183909826,
    "execution_millis": 5174,
    "output_cleared": true,
    "deepnote_cell_type": "code"
   },
   "source": "# TODO we need nbconvert<6 and I can't downgrade it in deepnote\n#!nbdev_build_docs",
   "execution_count": null,
   "outputs": []
  },
  {
   "cell_type": "code",
   "metadata": {
    "tags": [],
    "cell_id": "00007-9414f427-574b-4589-8c1f-d3c8cf418b1b",
    "deepnote_cell_type": "code"
   },
   "source": "!git config user.name \"Simon Sotak\"\n!git config user.email \"the21st@gmail.com\"",
   "execution_count": null,
   "outputs": []
  },
  {
   "cell_type": "code",
   "metadata": {
    "tags": [],
    "cell_id": "00008-11075dc7-3b8d-4483-b5be-ca6f7d977a21",
    "deepnote_cell_type": "code"
   },
   "source": "!git add *\n!git commit -m \"Committing our new left-pad library\"",
   "execution_count": null,
   "outputs": []
  },
  {
   "cell_type": "code",
   "metadata": {
    "tags": [],
    "cell_id": "00007-c395e57f-08e1-4923-ae8f-ee2b3ddf4e18",
    "deepnote_to_be_reexecuted": false,
    "source_hash": "3abf54f8",
    "execution_start": 1621168126099,
    "execution_millis": 4344,
    "deepnote_cell_type": "code"
   },
   "source": "!git push origin master",
   "execution_count": null,
   "outputs": [
    {
     "name": "stdout",
     "text": "[master 81cea0e] Test commit message\n 6 files changed, 229 insertions(+), 81 deletions(-)\n create mode 100644 pyleftpad/__init__.py\n create mode 100644 pyleftpad/_nbdev.py\n create mode 100644 pyleftpad/core.py\nremote: Permission to the21st/pyleftpad.git denied to deepnote[bot].\nfatal: unable to access 'https://github.com/the21st/pyleftpad.git/': The requested URL returned error: 403\n",
     "output_type": "stream"
    }
   ]
  },
  {
   "cell_type": "code",
   "metadata": {
    "tags": [],
    "cell_id": "00010-a532bc56-7303-4c19-91f9-aa6ad68daf4c",
    "deepnote_cell_type": "code"
   },
   "source": "!pip install git+git://github.com/the21st/pyleftpad",
   "execution_count": null,
   "outputs": []
  },
  {
   "cell_type": "code",
   "metadata": {
    "tags": [],
    "cell_id": "00012-7b4612d4-43ab-4d9f-ad4a-94d0b08f8c14",
    "deepnote_cell_type": "code"
   },
   "source": "# TODO maybe pypi? pending https://github.com/fastai/nbdev_template/issues/60",
   "execution_count": null,
   "outputs": []
  },
  {
   "cell_type": "markdown",
   "source": "<a style='text-decoration:none;line-height:16px;display:flex;color:#5B5B62;padding:10px;justify-content:end;' href='https://deepnote.com?utm_source=created-in-deepnote-cell&projectId=31041570-ef1a-415f-beea-b08a526f9fb6' target=\"_blank\">\n<img alt='Created in deepnote.com' style='display:inline;max-height:16px;margin:0px;margin-right:7.5px;' src='data:image/svg+xml;base64,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' > </img>\nCreated in <span style='font-weight:600;margin-left:4px;'>Deepnote</span></a>",
   "metadata": {
    "tags": [],
    "created_in_deepnote_cell": true,
    "deepnote_cell_type": "markdown"
   }
  }
 ],
 "nbformat": 4,
 "nbformat_minor": 2,
 "metadata": {
  "kernelspec": {
   "display_name": "Python 3",
   "language": "python",
   "name": "python3"
  },
  "deepnote_notebook_id": "a4c3679b-4800-49bf-86ce-e453a90545da",
  "deepnote": {},
  "deepnote_execution_queue": []
 }
}