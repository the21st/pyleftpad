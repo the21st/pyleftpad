{
 "cells": [
  {
   "cell_type": "code",
   "execution_count": null,
   "metadata": {},
   "outputs": [
    {
     "data": {
      "text/plain": "'5.6.1'"
     },
     "execution_count": null,
     "metadata": {},
     "output_type": "execute_result"
    }
   ],
   "source": "# a workaround to get the nbconvert<6 into the python path so that nbdev_build_docs works\nimport sys\nsys.path = ['/root/venv/lib/python3.7/site-packages'] + sys.path\nimport nbconvert\nnbconvert.__version__"
  },
  {
   "cell_type": "code",
   "execution_count": null,
   "metadata": {},
   "outputs": [],
   "source": "# default_exp core"
  },
  {
   "cell_type": "markdown",
   "metadata": {},
   "source": "# pyleftpad\n\n> Implements a function that pads strings with whitespace from the left."
  },
  {
   "cell_type": "code",
   "execution_count": null,
   "metadata": {},
   "outputs": [],
   "source": "#hide\nfrom nbdev.showdoc import *"
  },
  {
   "cell_type": "code",
   "execution_count": null,
   "metadata": {},
   "outputs": [],
   "source": "#export\ndef left_pad(padded_string, padding):\n    \"Pads string with spaces from the left so that its total width equals padding\"\n    return padded_string.rjust(padding, ' ')"
  },
  {
   "cell_type": "code",
   "execution_count": null,
   "metadata": {},
   "outputs": [
    {
     "data": {
      "text/markdown": "<h4 id=\"left_pad\" class=\"doc_header\"><code>left_pad</code><a href=\"__main__.py#L2\" class=\"source_link\" style=\"float:right\">[source]</a></h4>\n\n> <code>left_pad</code>(**`padded_string`**, **`padding`**)\n\nPads string with spaces from the left so that its total width equals padding",
      "text/plain": "<IPython.core.display.Markdown object>"
     },
     "metadata": {},
     "output_type": "display_data"
    }
   ],
   "source": "show_doc(left_pad)"
  },
  {
   "cell_type": "markdown",
   "metadata": {},
   "source": "You can use this function like this:"
  },
  {
   "cell_type": "code",
   "execution_count": null,
   "metadata": {},
   "outputs": [
    {
     "data": {
      "text/plain": "'     nbdev'"
     },
     "execution_count": null,
     "metadata": {},
     "output_type": "execute_result"
    }
   ],
   "source": "left_pad(\"nbdev\", 10)"
  },
  {
   "cell_type": "markdown",
   "metadata": {},
   "source": "Let's include some unit tests:"
  },
  {
   "cell_type": "code",
   "execution_count": null,
   "metadata": {},
   "outputs": [],
   "source": "assert left_pad(\"hello\", 0)==\"hello\""
  },
  {
   "cell_type": "code",
   "execution_count": null,
   "metadata": {},
   "outputs": [],
   "source": "assert left_pad(\"hello\", 5)==\"hello\""
  },
  {
   "cell_type": "code",
   "execution_count": null,
   "metadata": {},
   "outputs": [],
   "source": "assert left_pad(\"hello\", 6)==\" hello\""
  },
  {
   "cell_type": "markdown",
   "metadata": {},
   "source": "And now we can run `nbdev_build_lib` to build the project files:"
  },
  {
   "cell_type": "code",
   "execution_count": null,
   "metadata": {},
   "outputs": [
    {
     "name": "stdout",
     "output_type": "stream",
     "text": "Converted 00_core.ipynb.\nConverted index.ipynb.\n"
    }
   ],
   "source": "from nbdev.export2html import nbdev_build_lib; nbdev_build_lib()"
  },
  {
   "cell_type": "markdown",
   "metadata": {},
   "source": "And build the project's docs with `nbdev_build_docs`:"
  },
  {
   "cell_type": "code",
   "execution_count": null,
   "metadata": {},
   "outputs": [
    {
     "name": "stdout",
     "output_type": "stream",
     "text": "converting: /work/pyleftpad/00_core.ipynb\nconverting: /work/pyleftpad/index.ipynb\nconverting /work/pyleftpad/index.ipynb to README.md\n"
    }
   ],
   "source": "from nbdev.export2html import nbdev_build_docs; nbdev_build_docs()"
  },
  {
   "cell_type": "markdown",
   "metadata": {},
   "source": "---\n## Push to git\n\nAt this point, this would be the end of the nbdev notebook, but for the sake of presentation within 1 notebook, let's see what we'd do next to publish this package.\n\nFirst we want to run `nbdev_install_git_hooks`. This would be sufficient to run once, after first setting up your project."
  },
  {
   "cell_type": "code",
   "execution_count": null,
   "metadata": {},
   "outputs": [
    {
     "name": "stdout",
     "output_type": "stream",
     "text": "Executing: git config --local include.path ../.gitconfig\nSuccess: hooks are installed and repo's .gitconfig is now trusted\n"
    }
   ],
   "source": "!nbdev_install_git_hooks"
  },
  {
   "cell_type": "markdown",
   "metadata": {},
   "source": "Then we need to configure git username and email, because Deepnote might not have that info."
  },
  {
   "cell_type": "code",
   "execution_count": null,
   "metadata": {},
   "outputs": [],
   "source": "!git config user.name \"Simon Sotak\"\n!git config user.email \"the21st@gmail.com\""
  },
  {
   "cell_type": "markdown",
   "metadata": {},
   "source": "And then just stage all files and commit"
  },
  {
   "cell_type": "code",
   "execution_count": null,
   "metadata": {},
   "outputs": [
    {
     "name": "stdout",
     "output_type": "stream",
     "text": "[master db6d47b] Committing our new left-pad library\r\n 5 files changed, 169 insertions(+), 46 deletions(-)\r\n"
    }
   ],
   "source": "!git add *\n!git commit -m \"Committing our new left-pad library\""
  },
  {
   "cell_type": "markdown",
   "metadata": {},
   "source": "Finally, push to origin"
  },
  {
   "cell_type": "code",
   "execution_count": null,
   "metadata": {},
   "outputs": [
    {
     "name": "stdout",
     "output_type": "stream",
     "text": "Enumerating objects: 15, done.\nCounting objects: 100% (15/15), done.\nDelta compression using up to 4 threads\nCompressing objects: 100% (8/8), done.\nWriting objects: 100% (8/8), 2.05 KiB | 2.05 MiB/s, done.\nTotal 8 (delta 7), reused 0 (delta 0)\nremote: Resolving deltas: 100% (7/7), completed with 7 local objects.\u001b[K\nTo https://github.com/the21st/pyleftpad.git\n   e42269d..db6d47b  master -> master\n"
    }
   ],
   "source": "!git push origin master"
  },
  {
   "cell_type": "code",
   "execution_count": null,
   "metadata": {},
   "outputs": [
    {
     "name": "stdout",
     "output_type": "stream",
     "text": "rm -rf dist\npython setup.py sdist bdist_wheel\nrunning sdist\nrunning egg_info\ncreating pyleftpad.egg-info\nwriting pyleftpad.egg-info/PKG-INFO\nwriting dependency_links to pyleftpad.egg-info/dependency_links.txt\nwriting entry points to pyleftpad.egg-info/entry_points.txt\nwriting requirements to pyleftpad.egg-info/requires.txt\nwriting top-level names to pyleftpad.egg-info/top_level.txt\nwriting manifest file 'pyleftpad.egg-info/SOURCES.txt'\nreading manifest file 'pyleftpad.egg-info/SOURCES.txt'\nreading manifest template 'MANIFEST.in'\nwarning: no previously-included files matching '__pycache__' found under directory '*'\nadding license file 'LICENSE'\nwriting manifest file 'pyleftpad.egg-info/SOURCES.txt'\nrunning check\ncreating pyleftpad-0.0.1\ncreating pyleftpad-0.0.1/pyleftpad\ncreating pyleftpad-0.0.1/pyleftpad.egg-info\ncopying files to pyleftpad-0.0.1...\ncopying CONTRIBUTING.md -> pyleftpad-0.0.1\ncopying LICENSE -> pyleftpad-0.0.1\ncopying MANIFEST.in -> pyleftpad-0.0.1\ncopying README.md -> pyleftpad-0.0.1\ncopying settings.ini -> pyleftpad-0.0.1\ncopying setup.py -> pyleftpad-0.0.1\ncopying pyleftpad/__init__.py -> pyleftpad-0.0.1/pyleftpad\ncopying pyleftpad/_nbdev.py -> pyleftpad-0.0.1/pyleftpad\ncopying pyleftpad/core.py -> pyleftpad-0.0.1/pyleftpad\ncopying pyleftpad.egg-info/PKG-INFO -> pyleftpad-0.0.1/pyleftpad.egg-info\ncopying pyleftpad.egg-info/SOURCES.txt -> pyleftpad-0.0.1/pyleftpad.egg-info\ncopying pyleftpad.egg-info/dependency_links.txt -> pyleftpad-0.0.1/pyleftpad.egg-info\ncopying pyleftpad.egg-info/entry_points.txt -> pyleftpad-0.0.1/pyleftpad.egg-info\ncopying pyleftpad.egg-info/not-zip-safe -> pyleftpad-0.0.1/pyleftpad.egg-info\ncopying pyleftpad.egg-info/requires.txt -> pyleftpad-0.0.1/pyleftpad.egg-info\ncopying pyleftpad.egg-info/top_level.txt -> pyleftpad-0.0.1/pyleftpad.egg-info\nWriting pyleftpad-0.0.1/setup.cfg\ncreating dist\nCreating tar archive\nremoving 'pyleftpad-0.0.1' (and everything under it)\nrunning bdist_wheel\nrunning build\nrunning build_py\ncreating build\ncreating build/lib\ncreating build/lib/pyleftpad\ncopying pyleftpad/__init__.py -> build/lib/pyleftpad\ncopying pyleftpad/_nbdev.py -> build/lib/pyleftpad\ncopying pyleftpad/core.py -> build/lib/pyleftpad\ninstalling to build/bdist.linux-x86_64/wheel\nrunning install\nrunning install_lib\ncreating build/bdist.linux-x86_64\ncreating build/bdist.linux-x86_64/wheel\ncreating build/bdist.linux-x86_64/wheel/pyleftpad\ncopying build/lib/pyleftpad/_nbdev.py -> build/bdist.linux-x86_64/wheel/pyleftpad\ncopying build/lib/pyleftpad/core.py -> build/bdist.linux-x86_64/wheel/pyleftpad\ncopying build/lib/pyleftpad/__init__.py -> build/bdist.linux-x86_64/wheel/pyleftpad\nrunning install_egg_info\nCopying pyleftpad.egg-info to build/bdist.linux-x86_64/wheel/pyleftpad-0.0.1-py3.7.egg-info\nrunning install_scripts\nadding license file \"LICENSE\" (matched pattern \"LICEN[CS]E*\")\ncreating build/bdist.linux-x86_64/wheel/pyleftpad-0.0.1.dist-info/WHEEL\ncreating 'dist/pyleftpad-0.0.1-py3-none-any.whl' and adding 'build/bdist.linux-x86_64/wheel' to it\nadding 'pyleftpad/__init__.py'\nadding 'pyleftpad/_nbdev.py'\nadding 'pyleftpad/core.py'\nadding 'pyleftpad-0.0.1.dist-info/LICENSE'\nadding 'pyleftpad-0.0.1.dist-info/METADATA'\nadding 'pyleftpad-0.0.1.dist-info/WHEEL'\nadding 'pyleftpad-0.0.1.dist-info/entry_points.txt'\nadding 'pyleftpad-0.0.1.dist-info/top_level.txt'\nadding 'pyleftpad-0.0.1.dist-info/RECORD'\nremoving build/bdist.linux-x86_64/wheel\ntwine upload --repository pypi dist/*\n/bin/bash: twine: command not found\nmake: *** [Makefile:31: pypi] Error 127\n"
    }
   ],
   "source": "!make pypi"
  },
  {
   "cell_type": "code",
   "execution_count": null,
   "metadata": {},
   "outputs": [],
   "source": "#!pip install git+git://github.com/the21st/pyleftpad"
  },
  {
   "cell_type": "code",
   "execution_count": null,
   "metadata": {},
   "outputs": [],
   "source": "# TODO maybe pypi? pending https://github.com/fastai/nbdev_template/issues/60"
  }
 ],
 "metadata": {
  "kernelspec": {
   "display_name": "Python 3",
   "language": "python",
   "name": "python3"
  }
 },
 "nbformat": 4,
 "nbformat_minor": 2
}
