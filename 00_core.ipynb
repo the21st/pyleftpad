{
 "cells": [
  {
   "cell_type": "markdown",
   "metadata": {},
   "source": "# nbdev + Deepnote\n\nIn this notebook, I'll show you how you can use [nbdev](https://github.com/fastai/nbdev) in Deepnote. **nbdev** is a new programming paradigm that enables you to create a standard software library in a notebook environment, reaping all of the benefits of literate programming.\n\nI'll walk you through the steps that will enable you to implement a basic package using nbdev in Deepnote, and publish it on github, including using Github pages to host the package's docs."
  },
  {
   "cell_type": "markdown",
   "metadata": {},
   "source": "## Set up\n\n1. Start by using the `nbdev_template` github template [https://github.com/fastai/nbdev_template/generate](https://github.com/fastai/nbdev_template/generate) to create a new repo on github.\n2. Duplicate this <a target=\"_blank\" href=\"https://deepnote.com/project/nbdev-empty-template-uZ8cxzfwRbmSkqW4HTJonw/\">Deepnote nbdev template project</a>. It's set up with an environment that has `nbdev` preinstalled.\n4. In this Deepnote project, link the GitHub repo you created in step 1 using the GitHub sidebar on the left.\n5. Fill in the `settings.ini` file with your information. More info in the [nbdev tutorial](https://nbdev.fast.ai/tutorial.html#Edit-settings.ini)\n6. Open `00_core.ipynb` in Deepnote and you can start coding. The notebook you're reading is actually a `00_core.ipynb` file in an nbdev project that was set up this way 🙂"
  },
  {
   "cell_type": "markdown",
   "metadata": {},
   "source": "Now we can get to work! Let's explore what a notebook in the `nbdev` world looks like!"
  },
  {
   "cell_type": "code",
   "execution_count": null,
   "metadata": {},
   "outputs": [
    {
     "data": {
      "text/plain": "'5.6.1'"
     },
     "execution_count": null,
     "metadata": {},
     "output_type": "execute_result"
    }
   ],
   "source": "#hide\n# a workaround to get the nbconvert<6 into the python path so that nbdev_build_docs works\nimport sys\nsys.path = ['/root/venv/lib/python3.7/site-packages'] + sys.path\nimport nbconvert\nnbconvert.__version__"
  },
  {
   "cell_type": "markdown",
   "metadata": {},
   "source": "`nbdev` has special comments that convey information about how to build the package.\n\n`# default_exp core` means that the code in this notebook will be exported by default to a file `core.py`:"
  },
  {
   "cell_type": "code",
   "execution_count": null,
   "metadata": {},
   "outputs": [],
   "source": "# default_exp core"
  },
  {
   "cell_type": "markdown",
   "metadata": {},
   "source": "And now we can start implementing our python package."
  },
  {
   "cell_type": "markdown",
   "metadata": {},
   "source": "## pyleftpad\n\n> Implements a function that pads strings with whitespace from the left."
  },
  {
   "cell_type": "markdown",
   "metadata": {},
   "source": "### Implement the library code"
  },
  {
   "cell_type": "markdown",
   "metadata": {},
   "source": "You can see another one of the special nbdev comments, `#export` means that this cell will actually be exported to the `core.py` file and will become part of the package code."
  },
  {
   "cell_type": "code",
   "execution_count": null,
   "metadata": {},
   "outputs": [],
   "source": "#export\ndef left_pad(padded_string, padding):\n    \"Pads string with spaces from the left so that its total width equals padding\"\n    return padded_string.rjust(padding, ' ')"
  },
  {
   "cell_type": "markdown",
   "metadata": {},
   "source": "We can show `left_pad`'s html docs inside a notebook with `show_doc`. \n\nUsing `# hide` we can exclude a cell from the auto-generated documentation."
  },
  {
   "cell_type": "code",
   "execution_count": null,
   "metadata": {},
   "outputs": [],
   "source": "#hide\nfrom nbdev.showdoc import *"
  },
  {
   "cell_type": "code",
   "execution_count": null,
   "metadata": {},
   "outputs": [
    {
     "data": {
      "text/markdown": "<h4 id=\"left_pad\" class=\"doc_header\"><code>left_pad</code><a href=\"__main__.py#L2\" class=\"source_link\" style=\"float:right\">[source]</a></h4>\n\n> <code>left_pad</code>(**`padded_string`**, **`padding`**)\n\nPads string with spaces from the left so that its total width equals padding",
      "text/plain": "<IPython.core.display.Markdown object>"
     },
     "metadata": {},
     "output_type": "display_data"
    }
   ],
   "source": "show_doc(left_pad)"
  },
  {
   "cell_type": "markdown",
   "metadata": {},
   "source": "You can use this function like this."
  },
  {
   "cell_type": "code",
   "execution_count": null,
   "metadata": {},
   "outputs": [
    {
     "data": {
      "text/plain": "'     nbdev'"
     },
     "execution_count": null,
     "metadata": {},
     "output_type": "execute_result"
    }
   ],
   "source": "left_pad(\"nbdev\", 10)"
  },
  {
   "cell_type": "markdown",
   "metadata": {},
   "source": "Since the cell above doesn't have the `# export` comment, this code won't be part of the package we're building. It only server as an example usage of that function inside this notebook, including the output. What a great way to document your code!"
  },
  {
   "cell_type": "markdown",
   "metadata": {},
   "source": "Let's include some unit tests:"
  },
  {
   "cell_type": "code",
   "execution_count": null,
   "metadata": {},
   "outputs": [],
   "source": "assert left_pad(\"hello\", 0)==\"hello\""
  },
  {
   "cell_type": "code",
   "execution_count": null,
   "metadata": {},
   "outputs": [],
   "source": "assert left_pad(\"hello\", 5)==\"hello\""
  },
  {
   "cell_type": "code",
   "execution_count": null,
   "metadata": {},
   "outputs": [],
   "source": "assert left_pad(\"hello\", 6)==\" hello\""
  },
  {
   "cell_type": "markdown",
   "metadata": {},
   "source": "And now we can run `nbdev_build_lib` to build the project files:"
  },
  {
   "cell_type": "code",
   "execution_count": null,
   "metadata": {},
   "outputs": [
    {
     "name": "stdout",
     "output_type": "stream",
     "text": "Converted 00_core.ipynb.\nConverted index.ipynb.\n"
    }
   ],
   "source": "from nbdev.export2html import nbdev_build_lib; nbdev_build_lib()"
  },
  {
   "cell_type": "markdown",
   "metadata": {},
   "source": "And build the project's docs with `nbdev_build_docs`:"
  },
  {
   "cell_type": "code",
   "execution_count": null,
   "metadata": {},
   "outputs": [
    {
     "name": "stdout",
     "output_type": "stream",
     "text": "converting: /work/pyleftpad/00_core.ipynb\nconverting: /work/pyleftpad/index.ipynb\nconverting /work/pyleftpad/index.ipynb to README.md\n"
    }
   ],
   "source": "from nbdev.export2html import nbdev_build_docs; nbdev_build_docs()"
  },
  {
   "cell_type": "markdown",
   "metadata": {},
   "source": "---\n## Next steps\n\nAt this point, this would be the end of the nbdev notebook, but for the sake of presentation within 1 notebook, let's see what we'd do next to publish this package.\n\nFirst we want to run `nbdev_install_git_hooks`. This would be sufficient to run once, after first setting up your project."
  },
  {
   "cell_type": "code",
   "execution_count": null,
   "metadata": {},
   "outputs": [
    {
     "name": "stdout",
     "output_type": "stream",
     "text": "Executing: git config --local include.path ../.gitconfig\r\nSuccess: hooks are installed and repo's .gitconfig is now trusted\r\n"
    }
   ],
   "source": "#hide\n!nbdev_install_git_hooks"
  },
  {
   "cell_type": "markdown",
   "metadata": {},
   "source": "Then we need to configure git username and email, because Deepnote might not have that info."
  },
  {
   "cell_type": "code",
   "execution_count": null,
   "metadata": {},
   "outputs": [],
   "source": "#hide\n!git config user.name \"Simon Sotak\"\n!git config user.email \"the21st@gmail.com\""
  },
  {
   "cell_type": "markdown",
   "metadata": {},
   "source": "And then just stage all files and commit"
  },
  {
   "cell_type": "code",
   "execution_count": null,
   "metadata": {},
   "outputs": [
    {
     "name": "stdout",
     "output_type": "stream",
     "text": "The following paths are ignored by one of your .gitignore files:\nbuild\ndist\npyleftpad.egg-info\nUse -f if you really want to add them.\n[master 3e77230] Committing our new left-pad library\n 2 files changed, 56 insertions(+), 223 deletions(-)\n"
    }
   ],
   "source": "#hide\n!git add *\n!git commit -m \"Committing our new left-pad library\""
  },
  {
   "cell_type": "markdown",
   "metadata": {},
   "source": "Finally, push to origin"
  },
  {
   "cell_type": "code",
   "execution_count": null,
   "metadata": {},
   "outputs": [
    {
     "name": "stdout",
     "output_type": "stream",
     "text": "Enumerating objects: 9, done.\nCounting objects: 100% (9/9), done.\nDelta compression using up to 4 threads\nCompressing objects: 100% (5/5), done.\nWriting objects: 100% (5/5), 1.89 KiB | 1.89 MiB/s, done.\nTotal 5 (delta 4), reused 0 (delta 0)\nremote: Resolving deltas: 100% (4/4), completed with 4 local objects.\u001b[K\nTo https://github.com/the21st/pyleftpad.git\n   f52488e..3e77230  master -> master\n"
    }
   ],
   "source": "#hide\n!git push origin master"
  },
  {
   "cell_type": "markdown",
   "metadata": {},
   "source": "This repo is set up with GitHub actions in a way that it runs all notebooks after pushing new commits. If e.g. a unit test in a notebook doesn't pass, the GitHub actions continuous integration will report a failure. Neat 😎"
  },
  {
   "cell_type": "markdown",
   "metadata": {},
   "source": "You can check out the resulting repo here: https://github.com/the21st/pyleftpad"
  },
  {
   "cell_type": "markdown",
   "metadata": {},
   "source": "### Installing the package\n\nAfter it's pushed, it's ready to be used. You can either set up a pypi account and run `make pypi` from the terminal or you can install the package directly from github with `pip install git+git://github.com/the21st/pyleftpad`. \n\nSee [an example project](https://deepnote.com/@the21st/Installing-a-nbdev-package-directly-from-github-xWvR2CT7Sy-Rx9JJDlQoIw) that installs the package directly from github."
  },
  {
   "cell_type": "markdown",
   "metadata": {},
   "source": "### Browsing the docs\n\nAnd after enabling the Github Pages from the repo settings, our package docs are live at [https://the21st.github.io/pyleftpad/](https://the21st.github.io/pyleftpad/), see them inlined here:"
  },
  {
   "cell_type": "code",
   "execution_count": null,
   "metadata": {},
   "outputs": [
    {
     "data": {
      "text/html": "\n        <iframe\n            width=\"100%\"\n            height=\"400\"\n            src=\"https://the21st.github.io/pyleftpad/core.html\"\n            frameborder=\"0\"\n            allowfullscreen\n        ></iframe>\n        ",
      "text/plain": "<IPython.lib.display.IFrame at 0x7f923a9d0590>"
     },
     "execution_count": null,
     "metadata": {},
     "output_type": "execute_result"
    }
   ],
   "source": "#hide\nfrom IPython.display import IFrame\nIFrame(src='https://the21st.github.io/pyleftpad/core.html', width='100%', height='400')"
  }
 ],
 "metadata": {
  "kernelspec": {
   "display_name": "Python 3",
   "language": "python",
   "name": "python3"
  }
 },
 "nbformat": 4,
 "nbformat_minor": 2
}
