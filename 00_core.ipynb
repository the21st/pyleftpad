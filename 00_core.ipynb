{
 "cells": [
  {
   "cell_type": "code",
   "execution_count": null,
   "metadata": {},
   "outputs": [
    {
     "data": {
      "text/plain": "'5.6.1'"
     },
     "execution_count": null,
     "metadata": {},
     "output_type": "execute_result"
    }
   ],
   "source": "# a workaround to get the nbconvert<6 into the python path so that nbdev_build_docs works\nimport sys\nsys.path = ['/root/venv/lib/python3.7/site-packages'] + sys.path\nimport nbconvert\nnbconvert.__version__"
  },
  {
   "cell_type": "code",
   "execution_count": null,
   "metadata": {},
   "outputs": [],
   "source": "# default_exp core"
  },
  {
   "cell_type": "markdown",
   "metadata": {},
   "source": "# pyleftpad\n\n> Implements a function that pads strings with whitespace from the left."
  },
  {
   "cell_type": "code",
   "execution_count": null,
   "metadata": {},
   "outputs": [],
   "source": "#hide\nfrom nbdev.showdoc import *"
  },
  {
   "cell_type": "code",
   "execution_count": null,
   "metadata": {},
   "outputs": [],
   "source": "#export\ndef left_pad(padded_string, padding):\n    \"Pads string with spaces from the left so that its total width equals padding\"\n    return padded_string.rjust(padding, ' ')"
  },
  {
   "cell_type": "code",
   "execution_count": null,
   "metadata": {},
   "outputs": [
    {
     "data": {
      "text/markdown": "<h4 id=\"left_pad\" class=\"doc_header\"><code>left_pad</code><a href=\"__main__.py#L2\" class=\"source_link\" style=\"float:right\">[source]</a></h4>\n\n> <code>left_pad</code>(**`padded_string`**, **`padding`**)\n\nPads string with spaces from the left so that its total width equals padding",
      "text/plain": "<IPython.core.display.Markdown object>"
     },
     "metadata": {},
     "output_type": "display_data"
    }
   ],
   "source": "show_doc(left_pad)"
  },
  {
   "cell_type": "markdown",
   "metadata": {},
   "source": "You can use this function like this:"
  },
  {
   "cell_type": "code",
   "execution_count": null,
   "metadata": {},
   "outputs": [
    {
     "data": {
      "text/plain": "'     nbdev'"
     },
     "execution_count": null,
     "metadata": {},
     "output_type": "execute_result"
    }
   ],
   "source": "left_pad(\"nbdev\", 10)"
  },
  {
   "cell_type": "markdown",
   "metadata": {},
   "source": "Let's include some unit tests:"
  },
  {
   "cell_type": "code",
   "execution_count": null,
   "metadata": {},
   "outputs": [],
   "source": "assert left_pad(\"hello\", 0)==\"hello\""
  },
  {
   "cell_type": "code",
   "execution_count": null,
   "metadata": {},
   "outputs": [],
   "source": "assert left_pad(\"hello\", 5)==\"hello\""
  },
  {
   "cell_type": "code",
   "execution_count": null,
   "metadata": {},
   "outputs": [],
   "source": "assert left_pad(\"hello\", 6)==\" hello\""
  },
  {
   "cell_type": "markdown",
   "metadata": {},
   "source": "And now we can run `nbdev_build_lib` to build the project files:"
  },
  {
   "cell_type": "code",
   "execution_count": null,
   "metadata": {},
   "outputs": [
    {
     "name": "stdout",
     "output_type": "stream",
     "text": "Converted 00_core.ipynb.\nConverted index.ipynb.\n"
    }
   ],
   "source": "from nbdev.export2html import nbdev_build_lib; nbdev_build_lib()"
  },
  {
   "cell_type": "markdown",
   "metadata": {},
   "source": "And build the project's docs with `nbdev_build_docs`:"
  },
  {
   "cell_type": "code",
   "execution_count": null,
   "metadata": {},
   "outputs": [
    {
     "name": "stdout",
     "output_type": "stream",
     "text": "converting: /work/pyleftpad/00_core.ipynb\n"
    }
   ],
   "source": "from nbdev.export2html import nbdev_build_docs; nbdev_build_docs()"
  },
  {
   "cell_type": "markdown",
   "metadata": {},
   "source": "---\n## Push to git\n\nAt this point, this would be the end of the nbdev notebook, but for the sake of presentation within 1 notebook, let's see what we'd do next to publish this package.\n\nFirst we want to run `nbdev_install_git_hooks`. This would be sufficient to run once, after first setting up your project."
  },
  {
   "cell_type": "code",
   "execution_count": null,
   "metadata": {},
   "outputs": [
    {
     "name": "stdout",
     "output_type": "stream",
     "text": "Executing: git config --local include.path ../.gitconfig\nSuccess: hooks are installed and repo's .gitconfig is now trusted\n"
    }
   ],
   "source": "!nbdev_install_git_hooks"
  },
  {
   "cell_type": "markdown",
   "metadata": {},
   "source": "Then we need to configure git username and email, because Deepnote might not have that info."
  },
  {
   "cell_type": "code",
   "execution_count": null,
   "metadata": {},
   "outputs": [],
   "source": "!git config user.name \"Simon Sotak\"\n!git config user.email \"the21st@gmail.com\""
  },
  {
   "cell_type": "markdown",
   "metadata": {},
   "source": "And then just stage all files and commit"
  },
  {
   "cell_type": "code",
   "execution_count": null,
   "metadata": {},
   "outputs": [
    {
     "name": "stdout",
     "output_type": "stream",
     "text": "The following paths are ignored by one of your .gitignore files:\nbuild\ndist\npyleftpad.egg-info\nUse -f if you really want to add them.\n[master 8195fd6] Committing our new left-pad library\n 2 files changed, 25 insertions(+), 159 deletions(-)\n"
    }
   ],
   "source": "!git add *\n!git commit -m \"Committing our new left-pad library\""
  },
  {
   "cell_type": "markdown",
   "metadata": {},
   "source": "Finally, push to origin"
  },
  {
   "cell_type": "code",
   "execution_count": null,
   "metadata": {},
   "outputs": [
    {
     "name": "stdout",
     "output_type": "stream",
     "text": "Enumerating objects: 9, done.\nCounting objects: 100% (9/9), done.\nDelta compression using up to 4 threads\nCompressing objects: 100% (5/5), done.\nWriting objects: 100% (5/5), 1.25 KiB | 1.25 MiB/s, done.\nTotal 5 (delta 4), reused 0 (delta 0)\nremote: Resolving deltas: 100% (4/4), completed with 4 local objects.\u001b[K\nTo https://github.com/the21st/pyleftpad.git\n   9fffaf9..8195fd6  master -> master\n"
    }
   ],
   "source": "!git push origin master"
  },
  {
   "cell_type": "code",
   "execution_count": null,
   "metadata": {},
   "outputs": [],
   "source": "#!pip install git+git://github.com/the21st/pyleftpad"
  }
 ],
 "metadata": {
  "kernelspec": {
   "display_name": "Python 3",
   "language": "python",
   "name": "python3"
  }
 },
 "nbformat": 4,
 "nbformat_minor": 2
}
