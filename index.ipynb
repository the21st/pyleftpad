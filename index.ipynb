{
 "cells": [
  {
   "cell_type": "markdown",
   "metadata": {},
   "source": "# pyleftpad\n\n> A left-padding library for your strings\n\n**Check out the accompanying [article](https://deepnote.com/@the21st/nbdev-Deepnote-MQQVcO8aQV--6rCKUm-ftg)**"
  },
  {
   "cell_type": "markdown",
   "metadata": {},
   "source": "## Install"
  },
  {
   "cell_type": "markdown",
   "metadata": {},
   "source": "`pip install git+git://github.com/the21st/pyleftpad`"
  },
  {
   "cell_type": "markdown",
   "metadata": {},
   "source": "## How to use"
  },
  {
   "cell_type": "code",
   "execution_count": null,
   "metadata": {},
   "outputs": [
    {
     "data": {
      "text/plain": "'     nbdev'"
     },
     "execution_count": null,
     "metadata": {},
     "output_type": "execute_result"
    }
   ],
   "source": "from pyleftpad.core import *\nleft_pad(\"nbdev\", 10)"
  }
 ],
 "metadata": {
  "kernelspec": {
   "display_name": "Python 3",
   "language": "python",
   "name": "python3"
  }
 },
 "nbformat": 4,
 "nbformat_minor": 2
}
